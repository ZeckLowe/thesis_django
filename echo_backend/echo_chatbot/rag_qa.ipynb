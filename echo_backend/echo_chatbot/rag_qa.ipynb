{
 "cells": [
  {
   "cell_type": "markdown",
   "id": "52055cba",
   "metadata": {},
   "source": [
    "# Libraries"
   ]
  },
  {
   "cell_type": "code",
   "execution_count": null,
   "id": "75c7b586",
   "metadata": {},
   "outputs": [],
   "source": []
  },
  {
   "cell_type": "markdown",
   "id": "691595c4",
   "metadata": {},
   "source": [
    "# Tools"
   ]
  }
 ],
 "metadata": {
  "language_info": {
   "name": "python"
  }
 },
 "nbformat": 4,
 "nbformat_minor": 5
}
